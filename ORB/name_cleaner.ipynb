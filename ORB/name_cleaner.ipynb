{
 "cells": [
  {
   "cell_type": "code",
   "execution_count": null,
   "metadata": {
    "collapsed": true
   },
   "outputs": [],
   "source": [
    "RAW_NAMES = [\n",
    "    'SPV  Inc., DBA:   Super  Company',\n",
    "    'Michael Forsky LLC d.b.a F/B Burgers .',\n",
    "    '*** Youthful You Aesthetics ***',\n",
    "    'Aruna Indika (dba. NGXess)',\n",
    "    'Diot SA,  -  D. B. A.   *Diot-Technologies*',\n",
    "    'PERFECT PRIVACY, LLC, d-b-a Perfection,',\n",
    "    'PostgreSQL DB Analytics',\n",
    "    '/JAYE INC/',\n",
    "    ' ETABLISSEMENTS  SCHEPENS /D.B.A./ ETS_SCHEPENS',\n",
    "    'DUIKERSTRAINING OOSTENDE | D.B.A.:  D.T.O. '\n",
    "]"
   ]
  },
  {
   "cell_type": "code",
   "execution_count": null,
   "metadata": {
    "collapsed": true
   },
   "outputs": [],
   "source": [
    "CLEANED_NAME_PAIRS = [\n",
    "    ('SPV Inc',                  'Super Company'),\n",
    "    ('Michael Forsky LLC',       'F/B Burgers'),\n",
    "    ('Youthful You Aesthetics',  None),\n",
    "    ('Aruna Indika',             'NGXess'),\n",
    "    ('Diot SA',                  'Diot-Technologies'),\n",
    "    ('PERFECT PRIVACY, LLC',     'Perfection'),\n",
    "    ('PostgreSQL DB Analytics',  None),\n",
    "    ('JAYE INC',                 None),\n",
    "    ('ETABLISSEMENTS SCHEPENS',  'ETS SCHEPENS'),\n",
    "    ('DUIKERSTRAINING OOSTENDE', 'D.T.O'),\n",
    "]"
   ]
  },
  {
   "cell_type": "code",
   "execution_count": null,
   "metadata": {
    "collapsed": true
   },
   "outputs": [],
   "source": [
    "# raw_names list has multiple special chars at various locations in its elements\n",
    "# using .translate method to get rid of chars specified in the maketrans static method\n",
    "unwanted = str.maketrans('', '', '':*-/|')\n"
   ]
  },
  {
   "cell_type": "code",
   "execution_count": null,
   "metadata": {
    "collapsed": true
   },
   "outputs": [],
   "source": [
    "clean = [i.translate(unwanted) for i in raw_names]"
   ]
  },
  {
   "cell_type": "code",
   "execution_count": null,
   "metadata": {
    "collapsed": true
   },
   "outputs": [],
   "source": [
    "# to remove the above special characters and then the names are divided by \"d.b.a\" so to split on dba to divide the names into\n",
    "# 2 parts and save inthe dictionary"
   ]
  }
 ],
 "metadata": {
  "anaconda-cloud": {},
  "kernelspec": {
   "display_name": "Python [conda root]",
   "language": "python",
   "name": "conda-root-py"
  },
  "language_info": {
   "codemirror_mode": {
    "name": "ipython",
    "version": 2
   },
   "file_extension": ".py",
   "mimetype": "text/x-python",
   "name": "python",
   "nbconvert_exporter": "python",
   "pygments_lexer": "ipython2",
   "version": "2.7.12"
  }
 },
 "nbformat": 4,
 "nbformat_minor": 1
}
