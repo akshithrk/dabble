{
 "cells": [
  {
   "cell_type": "code",
   "execution_count": 1,
   "metadata": {},
   "outputs": [],
   "source": [
    "RAW_NAMES = [\n",
    "    'SPV  Inc., DBA:   Super  Company',\n",
    "    'Michael Forsky LLC d.b.a F/B Burgers .',\n",
    "    '*** Youthful You Aesthetics ***',\n",
    "    'Aruna Indika (dba. NGXess)',\n",
    "    'Diot SA,  -  D. B. A.   *Diot-Technologies*',\n",
    "    'PERFECT PRIVACY, LLC, d-b-a Perfection,',\n",
    "    'PostgreSQL DB Analytics',\n",
    "    '/JAYE INC/',\n",
    "    ' ETABLISSEMENTS  SCHEPENS /D.B.A./ ETS_SCHEPENS',\n",
    "    'DUIKERSTRAINING OOSTENDE | D.B.A.:  D.T.O. '\n",
    "]"
   ]
  },
  {
   "cell_type": "code",
   "execution_count": 2,
   "metadata": {},
   "outputs": [],
   "source": [
    "CLEANED_NAME_PAIRS = [\n",
    "    ('SPV Inc',                  'Super Company'),\n",
    "    ('Michael Forsky LLC',       'F/B Burgers'),\n",
    "    ('Youthful You Aesthetics',  None),\n",
    "    ('Aruna Indika',             'NGXess'),\n",
    "    ('Diot SA',                  'Diot-Technologies'),\n",
    "    ('PERFECT PRIVACY, LLC',     'Perfection'),\n",
    "    ('PostgreSQL DB Analytics',  None),\n",
    "    ('JAYE INC',                 None),\n",
    "    ('ETABLISSEMENTS SCHEPENS',  'ETS SCHEPENS'),\n",
    "    ('DUIKERSTRAINING OOSTENDE', 'D.T.O'),\n",
    "]"
   ]
  },
  {
   "cell_type": "code",
   "execution_count": 5,
   "metadata": {},
   "outputs": [
    {
     "data": {
      "text/plain": [
       "[('SPV Inc', 'Super Company'),\n",
       " ('Michael Forsky LLC', 'F/B Burgers'),\n",
       " ('Youthful You Aesthetics', None),\n",
       " ('Aruna Indika', 'NGXess'),\n",
       " ('Diot SA', 'Diot-Technologies'),\n",
       " ('PERFECT PRIVACY, LLC', 'Perfection'),\n",
       " ('PostgreSQL DB Analytics', None),\n",
       " ('JAYE INC', None),\n",
       " ('ETABLISSEMENTS SCHEPENS', 'ETS SCHEPENS'),\n",
       " ('DUIKERSTRAINING OOSTENDE', 'D.T.O')]"
      ]
     },
     "execution_count": 5,
     "metadata": {},
     "output_type": "execute_result"
    }
   ],
   "source": [
    "CLEANED_NAME_PAIRS"
   ]
  },
  {
   "cell_type": "code",
   "execution_count": 8,
   "metadata": {},
   "outputs": [],
   "source": [
    "import re\n",
    "# re.split(r\"[\\[\\]]\", \"I need to [go out] to lunch\")"
   ]
  },
  {
   "cell_type": "code",
   "execution_count": 9,
   "metadata": {},
   "outputs": [],
   "source": [
    "# df['split'] = df['original'].map(lambda x: x.split('--', 1)[0])"
   ]
  },
  {
   "cell_type": "code",
   "execution_count": 10,
   "metadata": {},
   "outputs": [],
   "source": [
    "# RAW_NAMES.map(lambda x: x.split())"
   ]
  },
  {
   "cell_type": "code",
   "execution_count": 13,
   "metadata": {},
   "outputs": [],
   "source": [
    "unwanted = str.maketrans('', '', '.,:*()-/|')\n",
    "# RAW_NAMES"
   ]
  },
  {
   "cell_type": "code",
   "execution_count": 14,
   "metadata": {},
   "outputs": [],
   "source": [
    "clean = [i.translate(unwanted) for i in RAW_NAMES]"
   ]
  },
  {
   "cell_type": "code",
   "execution_count": 15,
   "metadata": {},
   "outputs": [
    {
     "data": {
      "text/plain": [
       "['SPV  Inc DBA   Super  Company',\n",
       " 'Michael Forsky LLC dba FB Burgers ',\n",
       " ' Youthful You Aesthetics ',\n",
       " 'Aruna Indika dba NGXess',\n",
       " 'Diot SA    D B A   DiotTechnologies',\n",
       " 'PERFECT PRIVACY LLC dba Perfection',\n",
       " 'PostgreSQL DB Analytics',\n",
       " 'JAYE INC',\n",
       " ' ETABLISSEMENTS  SCHEPENS DBA ETS_SCHEPENS',\n",
       " 'DUIKERSTRAINING OOSTENDE  DBA  DTO ']"
      ]
     },
     "execution_count": 15,
     "metadata": {},
     "output_type": "execute_result"
    }
   ],
   "source": [
    "clean"
   ]
  },
  {
   "cell_type": "code",
   "execution_count": 26,
   "metadata": {},
   "outputs": [],
   "source": [
    "# clean[2].strip()\n",
    "cleaner = []\n",
    "\n",
    "for i in clean:\n",
    "    str(i).strip()\n",
    "    cleaner.append(i)"
   ]
  },
  {
   "cell_type": "code",
   "execution_count": 27,
   "metadata": {},
   "outputs": [
    {
     "data": {
      "text/plain": [
       "['SPV  Inc DBA   Super  Company',\n",
       " 'Michael Forsky LLC dba FB Burgers ',\n",
       " ' Youthful You Aesthetics ',\n",
       " 'Aruna Indika dba NGXess',\n",
       " 'Diot SA    D B A   DiotTechnologies',\n",
       " 'PERFECT PRIVACY LLC dba Perfection',\n",
       " 'PostgreSQL DB Analytics',\n",
       " 'JAYE INC',\n",
       " ' ETABLISSEMENTS  SCHEPENS DBA ETS_SCHEPENS',\n",
       " 'DUIKERSTRAINING OOSTENDE  DBA  DTO ']"
      ]
     },
     "execution_count": 27,
     "metadata": {},
     "output_type": "execute_result"
    }
   ],
   "source": [
    "cleaner"
   ]
  },
  {
   "cell_type": "code",
   "execution_count": 30,
   "metadata": {},
   "outputs": [
    {
     "data": {
      "text/plain": [
       "['SPV  Inc DBA   Super  Company',\n",
       " 'Michael Forsky LLC dba FB Burgers ',\n",
       " 'Youthful You Aesthetics',\n",
       " 'Aruna Indika dba NGXess',\n",
       " 'Diot SA    D B A   DiotTechnologies',\n",
       " 'PERFECT PRIVACY LLC dba Perfection',\n",
       " 'PostgreSQL DB Analytics',\n",
       " 'JAYE INC',\n",
       " 'ETABLISSEMENTS  SCHEPENS DBA ETS_SCHEPENS',\n",
       " 'DUIKERSTRAINING OOSTENDE  DBA  DTO ']"
      ]
     },
     "execution_count": 30,
     "metadata": {},
     "output_type": "execute_result"
    }
   ],
   "source": [
    "# above didnt work, so as a temp fix, below:\n",
    "# cleaner[2] = clean[2].strip()\n",
    "# cleaner[8] = clean[8].strip()\n",
    "cleaner"
   ]
  },
  {
   "cell_type": "code",
   "execution_count": 39,
   "metadata": {},
   "outputs": [],
   "source": [
    "# now the words seem to be separated by the word DBA, dba, D B A\n",
    "# so to split the list items on the above words and save in a new list as pairs\n",
    "cleaner_pairs = []\n",
    "for i in cleaner:\n",
    "    i.split('DBA dba D B A')\n",
    "    cleaner_pairs.append(i)"
   ]
  },
  {
   "cell_type": "code",
   "execution_count": 32,
   "metadata": {},
   "outputs": [
    {
     "data": {
      "text/plain": [
       "['SPV  Inc ', '   Super  Company']"
      ]
     },
     "execution_count": 32,
     "metadata": {},
     "output_type": "execute_result"
    }
   ],
   "source": [
    "# cleaner[0].split('DBA', 1)"
   ]
  },
  {
   "cell_type": "code",
   "execution_count": 92,
   "metadata": {},
   "outputs": [
    {
     "ename": "AttributeError",
     "evalue": "'list' object has no attribute 'split'",
     "output_type": "error",
     "traceback": [
      "\u001b[1;31m---------------------------------------------------------------------------\u001b[0m",
      "\u001b[1;31mAttributeError\u001b[0m                            Traceback (most recent call last)",
      "\u001b[1;32m<ipython-input-92-493b5cf73c9b>\u001b[0m in \u001b[0;36m<module>\u001b[1;34m()\u001b[0m\n\u001b[0;32m      3\u001b[0m \u001b[1;31m# cleaner_pairs = []\u001b[0m\u001b[1;33m\u001b[0m\u001b[1;33m\u001b[0m\u001b[0m\n\u001b[0;32m      4\u001b[0m \u001b[0mDBA\u001b[0m \u001b[1;33m=\u001b[0m \u001b[1;33m[\u001b[0m\u001b[0mi\u001b[0m\u001b[1;33m.\u001b[0m\u001b[0msplit\u001b[0m\u001b[1;33m(\u001b[0m\u001b[1;34m'DBA'\u001b[0m\u001b[1;33m)\u001b[0m \u001b[1;32mfor\u001b[0m \u001b[0mi\u001b[0m \u001b[1;32min\u001b[0m \u001b[0mcleaner\u001b[0m\u001b[1;33m]\u001b[0m\u001b[1;33m\u001b[0m\u001b[0m\n\u001b[1;32m----> 5\u001b[1;33m \u001b[0mdba\u001b[0m \u001b[1;33m=\u001b[0m \u001b[1;33m[\u001b[0m\u001b[0mi\u001b[0m\u001b[1;33m.\u001b[0m\u001b[0msplit\u001b[0m\u001b[1;33m(\u001b[0m\u001b[1;34m'dba'\u001b[0m\u001b[1;33m)\u001b[0m \u001b[1;32mfor\u001b[0m \u001b[0mi\u001b[0m \u001b[1;32min\u001b[0m \u001b[0mDBA\u001b[0m\u001b[1;33m]\u001b[0m\u001b[1;33m\u001b[0m\u001b[0m\n\u001b[0m\u001b[0;32m      6\u001b[0m \u001b[0mDBA_\u001b[0m \u001b[1;33m=\u001b[0m \u001b[1;33m[\u001b[0m\u001b[0mi\u001b[0m\u001b[1;33m.\u001b[0m\u001b[0msplit\u001b[0m\u001b[1;33m(\u001b[0m\u001b[1;34m'D B A'\u001b[0m\u001b[1;33m)\u001b[0m \u001b[1;32mfor\u001b[0m \u001b[0mi\u001b[0m \u001b[1;32min\u001b[0m \u001b[0mdba\u001b[0m\u001b[1;33m]\u001b[0m\u001b[1;33m\u001b[0m\u001b[0m\n",
      "\u001b[1;32m<ipython-input-92-493b5cf73c9b>\u001b[0m in \u001b[0;36m<listcomp>\u001b[1;34m(.0)\u001b[0m\n\u001b[0;32m      3\u001b[0m \u001b[1;31m# cleaner_pairs = []\u001b[0m\u001b[1;33m\u001b[0m\u001b[1;33m\u001b[0m\u001b[0m\n\u001b[0;32m      4\u001b[0m \u001b[0mDBA\u001b[0m \u001b[1;33m=\u001b[0m \u001b[1;33m[\u001b[0m\u001b[0mi\u001b[0m\u001b[1;33m.\u001b[0m\u001b[0msplit\u001b[0m\u001b[1;33m(\u001b[0m\u001b[1;34m'DBA'\u001b[0m\u001b[1;33m)\u001b[0m \u001b[1;32mfor\u001b[0m \u001b[0mi\u001b[0m \u001b[1;32min\u001b[0m \u001b[0mcleaner\u001b[0m\u001b[1;33m]\u001b[0m\u001b[1;33m\u001b[0m\u001b[0m\n\u001b[1;32m----> 5\u001b[1;33m \u001b[0mdba\u001b[0m \u001b[1;33m=\u001b[0m \u001b[1;33m[\u001b[0m\u001b[0mi\u001b[0m\u001b[1;33m.\u001b[0m\u001b[0msplit\u001b[0m\u001b[1;33m(\u001b[0m\u001b[1;34m'dba'\u001b[0m\u001b[1;33m)\u001b[0m \u001b[1;32mfor\u001b[0m \u001b[0mi\u001b[0m \u001b[1;32min\u001b[0m \u001b[0mDBA\u001b[0m\u001b[1;33m]\u001b[0m\u001b[1;33m\u001b[0m\u001b[0m\n\u001b[0m\u001b[0;32m      6\u001b[0m \u001b[0mDBA_\u001b[0m \u001b[1;33m=\u001b[0m \u001b[1;33m[\u001b[0m\u001b[0mi\u001b[0m\u001b[1;33m.\u001b[0m\u001b[0msplit\u001b[0m\u001b[1;33m(\u001b[0m\u001b[1;34m'D B A'\u001b[0m\u001b[1;33m)\u001b[0m \u001b[1;32mfor\u001b[0m \u001b[0mi\u001b[0m \u001b[1;32min\u001b[0m \u001b[0mdba\u001b[0m\u001b[1;33m]\u001b[0m\u001b[1;33m\u001b[0m\u001b[0m\n",
      "\u001b[1;31mAttributeError\u001b[0m: 'list' object has no attribute 'split'"
     ]
    }
   ],
   "source": [
    "# cleaner[0].split('DBA')\n",
    "# cleaner[1].split('dba FB') works for multiple delimiters\n",
    "# cleaner_pairs = []\n",
    "DBA = [i.split('DBA') for i in cleaner]\n"
   ]
  },
  {
   "cell_type": "code",
   "execution_count": 97,
   "metadata": {},
   "outputs": [
    {
     "data": {
      "text/plain": [
       "[['SPV  Inc ', '   Super  Company'],\n",
       " ['Michael Forsky LLC dba FB Burgers '],\n",
       " ['Youthful You Aesthetics'],\n",
       " ['Aruna Indika dba NGXess'],\n",
       " ['Diot SA    D B A   DiotTechnologies'],\n",
       " ['PERFECT PRIVACY LLC dba Perfection'],\n",
       " ['PostgreSQL DB Analytics'],\n",
       " ['JAYE INC'],\n",
       " ['ETABLISSEMENTS  SCHEPENS ', ' ETS_SCHEPENS'],\n",
       " ['DUIKERSTRAINING OOSTENDE  ', '  DTO ']]"
      ]
     },
     "execution_count": 97,
     "metadata": {},
     "output_type": "execute_result"
    }
   ],
   "source": [
    "DBA"
   ]
  },
  {
   "cell_type": "code",
   "execution_count": 100,
   "metadata": {},
   "outputs": [
    {
     "ename": "SyntaxError",
     "evalue": "invalid syntax (<ipython-input-100-175106aa03b8>, line 1)",
     "output_type": "error",
     "traceback": [
      "\u001b[1;36m  File \u001b[1;32m\"<ipython-input-100-175106aa03b8>\"\u001b[1;36m, line \u001b[1;32m1\u001b[0m\n\u001b[1;33m    dba = i.split('dba') for i in DBA\u001b[0m\n\u001b[1;37m                           ^\u001b[0m\n\u001b[1;31mSyntaxError\u001b[0m\u001b[1;31m:\u001b[0m invalid syntax\n"
     ]
    }
   ],
   "source": [
    "dba = i.split('dba')"
   ]
  },
  {
   "cell_type": "code",
   "execution_count": 91,
   "metadata": {},
   "outputs": [
    {
     "data": {
      "text/plain": [
       "[['SPV  Inc DBA   Super  Company'],\n",
       " ['Michael Forsky LLC dba FB Burgers '],\n",
       " ['Youthful You Aesthetics'],\n",
       " ['Aruna Indika dba NGXess'],\n",
       " ['Diot SA    ', '   DiotTechnologies'],\n",
       " ['PERFECT PRIVACY LLC dba Perfection'],\n",
       " ['PostgreSQL DB Analytics'],\n",
       " ['JAYE INC'],\n",
       " ['ETABLISSEMENTS  SCHEPENS DBA ETS_SCHEPENS'],\n",
       " ['DUIKERSTRAINING OOSTENDE  DBA  DTO ']]"
      ]
     },
     "execution_count": 91,
     "metadata": {},
     "output_type": "execute_result"
    }
   ],
   "source": [
    "DBA_ = [i.split('D B A') for i in dba]"
   ]
  },
  {
   "cell_type": "code",
   "execution_count": null,
   "metadata": {},
   "outputs": [],
   "source": []
  }
 ],
 "metadata": {
  "kernelspec": {
   "display_name": "Python 3",
   "language": "python",
   "name": "python3"
  },
  "language_info": {
   "codemirror_mode": {
    "name": "ipython",
    "version": 3
   },
   "file_extension": ".py",
   "mimetype": "text/x-python",
   "name": "python",
   "nbconvert_exporter": "python",
   "pygments_lexer": "ipython3",
   "version": "3.6.4"
  }
 },
 "nbformat": 4,
 "nbformat_minor": 2
}
