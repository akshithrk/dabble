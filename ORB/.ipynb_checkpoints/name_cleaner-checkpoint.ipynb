{
 "cells": [
  {
   "cell_type": "code",
   "execution_count": 1,
   "metadata": {
    "collapsed": true
   },
   "outputs": [],
   "source": [
    "RAW_NAMES = [\n",
    "    'SPV  Inc., DBA:   Super  Company',\n",
    "    'Michael Forsky LLC d.b.a F/B Burgers .',\n",
    "    '*** Youthful You Aesthetics ***',\n",
    "    'Aruna Indika (dba. NGXess)',\n",
    "    'Diot SA,  -  D. B. A.   *Diot-Technologies*',\n",
    "    'PERFECT PRIVACY, LLC, d-b-a Perfection,',\n",
    "    'PostgreSQL DB Analytics',\n",
    "    '/JAYE INC/',\n",
    "    ' ETABLISSEMENTS  SCHEPENS /D.B.A./ ETS_SCHEPENS',\n",
    "    'DUIKERSTRAINING OOSTENDE | D.B.A.:  D.T.O. '\n",
    "]"
   ]
  },
  {
   "cell_type": "code",
   "execution_count": 2,
   "metadata": {
    "collapsed": true
   },
   "outputs": [],
   "source": [
    "CLEANED_NAME_PAIRS = [\n",
    "    ('SPV Inc',                  'Super Company'),\n",
    "    ('Michael Forsky LLC',       'F/B Burgers'),\n",
    "    ('Youthful You Aesthetics',  None),\n",
    "    ('Aruna Indika',             'NGXess'),\n",
    "    ('Diot SA',                  'Diot-Technologies'),\n",
    "    ('PERFECT PRIVACY, LLC',     'Perfection'),\n",
    "    ('PostgreSQL DB Analytics',  None),\n",
    "    ('JAYE INC',                 None),\n",
    "    ('ETABLISSEMENTS SCHEPENS',  'ETS SCHEPENS'),\n",
    "    ('DUIKERSTRAINING OOSTENDE', 'D.T.O'),\n",
    "]"
   ]
  },
  {
   "cell_type": "code",
   "execution_count": null,
   "metadata": {
    "collapsed": true
   },
   "outputs": [],
   "source": [
    "# raw_names list has multiple special chars at various locations in its elements\n",
    "# using .translate strin\n",
    "removetable = str.maketrans('', '', '@#%')\n",
    "out_list = [s.translate(removetable) for s in my_list]"
   ]
  }
 ],
 "metadata": {
  "anaconda-cloud": {},
  "kernelspec": {
   "display_name": "Python [conda root]",
   "language": "python",
   "name": "conda-root-py"
  },
  "language_info": {
   "codemirror_mode": {
    "name": "ipython",
    "version": 2
   },
   "file_extension": ".py",
   "mimetype": "text/x-python",
   "name": "python",
   "nbconvert_exporter": "python",
   "pygments_lexer": "ipython2",
   "version": "2.7.12"
  }
 },
 "nbformat": 4,
 "nbformat_minor": 1
}
